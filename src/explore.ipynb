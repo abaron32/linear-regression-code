{
    "cells": [
        {
            "cell_type": "markdown",
            "metadata": {},
            "source": [
                "# Linear regression project"
            ]
        },
        {
            "cell_type": "code",
            "execution_count": 68,
            "metadata": {},
            "outputs": [],
            "source": [
                "# Import libraries\n",
                "import pandas as pd \n",
                "import numpy as np \n",
                "import matplotlib.pyplot as plt  \n",
                "import seaborn as sns\n",
                "import plotly.express as px\n",
                "from sklearn.preprocessing import OrdinalEncoder\n",
                "from sklearn.linear_model import LinearRegression\n",
                "from sklearn.model_selection import train_test_split\n",
                "import statsmodels.api as sm\n",
                "from sklearn import metrics\n",
                "from sklearn.preprocessing import PolynomialFeatures\n"
            ]
        },
        {
            "cell_type": "code",
            "execution_count": 25,
            "metadata": {},
            "outputs": [],
            "source": [
                "# Read dataset\n",
                "url = 'https://raw.githubusercontent.com/4GeeksAcademy/linear-regression-project-tutorial/main/medical_insurance_cost.csv'\n",
                "df = pd.read_csv(url)"
            ]
        },
        {
            "cell_type": "code",
            "execution_count": 5,
            "metadata": {},
            "outputs": [
                {
                    "name": "stdout",
                    "output_type": "stream",
                    "text": [
                        "<class 'pandas.core.frame.DataFrame'>\n",
                        "RangeIndex: 1338 entries, 0 to 1337\n",
                        "Data columns (total 7 columns):\n",
                        " #   Column    Non-Null Count  Dtype  \n",
                        "---  ------    --------------  -----  \n",
                        " 0   age       1338 non-null   int64  \n",
                        " 1   sex       1338 non-null   object \n",
                        " 2   bmi       1338 non-null   float64\n",
                        " 3   children  1338 non-null   int64  \n",
                        " 4   smoker    1338 non-null   object \n",
                        " 5   region    1338 non-null   object \n",
                        " 6   charges   1338 non-null   float64\n",
                        "dtypes: float64(2), int64(2), object(3)\n",
                        "memory usage: 73.3+ KB\n"
                    ]
                }
            ],
            "source": [
                "df.info()"
            ]
        },
        {
            "cell_type": "code",
            "execution_count": null,
            "metadata": {},
            "outputs": [],
            "source": [
                "'''\n",
                "DICTIONARY\n",
                "age: age of primary beneficiary\n",
                "sex: insurance contractor gender, female or male\n",
                "bmi: Body mass index\n",
                "children: Number of children covered by health insurance / Number of dependents\n",
                "smoker: Smoking\n",
                "region: the beneficiary's residential area in the US, northeast, southeast, southwest, northwest.\n",
                "charges: Individual medical costs billed by health insurance\n",
                "'''"
            ]
        },
        {
            "cell_type": "code",
            "execution_count": 7,
            "metadata": {},
            "outputs": [
                {
                    "data": {
                        "text/html": [
                            "<div>\n",
                            "<style scoped>\n",
                            "    .dataframe tbody tr th:only-of-type {\n",
                            "        vertical-align: middle;\n",
                            "    }\n",
                            "\n",
                            "    .dataframe tbody tr th {\n",
                            "        vertical-align: top;\n",
                            "    }\n",
                            "\n",
                            "    .dataframe thead th {\n",
                            "        text-align: right;\n",
                            "    }\n",
                            "</style>\n",
                            "<table border=\"1\" class=\"dataframe\">\n",
                            "  <thead>\n",
                            "    <tr style=\"text-align: right;\">\n",
                            "      <th></th>\n",
                            "      <th>age</th>\n",
                            "      <th>bmi</th>\n",
                            "      <th>children</th>\n",
                            "      <th>charges</th>\n",
                            "    </tr>\n",
                            "  </thead>\n",
                            "  <tbody>\n",
                            "    <tr>\n",
                            "      <th>count</th>\n",
                            "      <td>1338.000000</td>\n",
                            "      <td>1338.000000</td>\n",
                            "      <td>1338.000000</td>\n",
                            "      <td>1338.000000</td>\n",
                            "    </tr>\n",
                            "    <tr>\n",
                            "      <th>mean</th>\n",
                            "      <td>39.207025</td>\n",
                            "      <td>30.663397</td>\n",
                            "      <td>1.094918</td>\n",
                            "      <td>13270.422265</td>\n",
                            "    </tr>\n",
                            "    <tr>\n",
                            "      <th>std</th>\n",
                            "      <td>14.049960</td>\n",
                            "      <td>6.098187</td>\n",
                            "      <td>1.205493</td>\n",
                            "      <td>12110.011237</td>\n",
                            "    </tr>\n",
                            "    <tr>\n",
                            "      <th>min</th>\n",
                            "      <td>18.000000</td>\n",
                            "      <td>15.960000</td>\n",
                            "      <td>0.000000</td>\n",
                            "      <td>1121.873900</td>\n",
                            "    </tr>\n",
                            "    <tr>\n",
                            "      <th>25%</th>\n",
                            "      <td>27.000000</td>\n",
                            "      <td>26.296250</td>\n",
                            "      <td>0.000000</td>\n",
                            "      <td>4740.287150</td>\n",
                            "    </tr>\n",
                            "    <tr>\n",
                            "      <th>50%</th>\n",
                            "      <td>39.000000</td>\n",
                            "      <td>30.400000</td>\n",
                            "      <td>1.000000</td>\n",
                            "      <td>9382.033000</td>\n",
                            "    </tr>\n",
                            "    <tr>\n",
                            "      <th>75%</th>\n",
                            "      <td>51.000000</td>\n",
                            "      <td>34.693750</td>\n",
                            "      <td>2.000000</td>\n",
                            "      <td>16639.912515</td>\n",
                            "    </tr>\n",
                            "    <tr>\n",
                            "      <th>max</th>\n",
                            "      <td>64.000000</td>\n",
                            "      <td>53.130000</td>\n",
                            "      <td>5.000000</td>\n",
                            "      <td>63770.428010</td>\n",
                            "    </tr>\n",
                            "  </tbody>\n",
                            "</table>\n",
                            "</div>"
                        ],
                        "text/plain": [
                            "               age          bmi     children       charges\n",
                            "count  1338.000000  1338.000000  1338.000000   1338.000000\n",
                            "mean     39.207025    30.663397     1.094918  13270.422265\n",
                            "std      14.049960     6.098187     1.205493  12110.011237\n",
                            "min      18.000000    15.960000     0.000000   1121.873900\n",
                            "25%      27.000000    26.296250     0.000000   4740.287150\n",
                            "50%      39.000000    30.400000     1.000000   9382.033000\n",
                            "75%      51.000000    34.693750     2.000000  16639.912515\n",
                            "max      64.000000    53.130000     5.000000  63770.428010"
                        ]
                    },
                    "execution_count": 7,
                    "metadata": {},
                    "output_type": "execute_result"
                }
            ],
            "source": [
                "df.describe()"
            ]
        },
        {
            "cell_type": "code",
            "execution_count": 6,
            "metadata": {},
            "outputs": [
                {
                    "data": {
                        "text/html": [
                            "<div>\n",
                            "<style scoped>\n",
                            "    .dataframe tbody tr th:only-of-type {\n",
                            "        vertical-align: middle;\n",
                            "    }\n",
                            "\n",
                            "    .dataframe tbody tr th {\n",
                            "        vertical-align: top;\n",
                            "    }\n",
                            "\n",
                            "    .dataframe thead th {\n",
                            "        text-align: right;\n",
                            "    }\n",
                            "</style>\n",
                            "<table border=\"1\" class=\"dataframe\">\n",
                            "  <thead>\n",
                            "    <tr style=\"text-align: right;\">\n",
                            "      <th></th>\n",
                            "      <th>age</th>\n",
                            "      <th>sex</th>\n",
                            "      <th>bmi</th>\n",
                            "      <th>children</th>\n",
                            "      <th>smoker</th>\n",
                            "      <th>region</th>\n",
                            "      <th>charges</th>\n",
                            "    </tr>\n",
                            "  </thead>\n",
                            "  <tbody>\n",
                            "    <tr>\n",
                            "      <th>0</th>\n",
                            "      <td>19</td>\n",
                            "      <td>female</td>\n",
                            "      <td>27.900</td>\n",
                            "      <td>0</td>\n",
                            "      <td>yes</td>\n",
                            "      <td>southwest</td>\n",
                            "      <td>16884.92400</td>\n",
                            "    </tr>\n",
                            "    <tr>\n",
                            "      <th>1</th>\n",
                            "      <td>18</td>\n",
                            "      <td>male</td>\n",
                            "      <td>33.770</td>\n",
                            "      <td>1</td>\n",
                            "      <td>no</td>\n",
                            "      <td>southeast</td>\n",
                            "      <td>1725.55230</td>\n",
                            "    </tr>\n",
                            "    <tr>\n",
                            "      <th>2</th>\n",
                            "      <td>28</td>\n",
                            "      <td>male</td>\n",
                            "      <td>33.000</td>\n",
                            "      <td>3</td>\n",
                            "      <td>no</td>\n",
                            "      <td>southeast</td>\n",
                            "      <td>4449.46200</td>\n",
                            "    </tr>\n",
                            "    <tr>\n",
                            "      <th>3</th>\n",
                            "      <td>33</td>\n",
                            "      <td>male</td>\n",
                            "      <td>22.705</td>\n",
                            "      <td>0</td>\n",
                            "      <td>no</td>\n",
                            "      <td>northwest</td>\n",
                            "      <td>21984.47061</td>\n",
                            "    </tr>\n",
                            "    <tr>\n",
                            "      <th>4</th>\n",
                            "      <td>32</td>\n",
                            "      <td>male</td>\n",
                            "      <td>28.880</td>\n",
                            "      <td>0</td>\n",
                            "      <td>no</td>\n",
                            "      <td>northwest</td>\n",
                            "      <td>3866.85520</td>\n",
                            "    </tr>\n",
                            "  </tbody>\n",
                            "</table>\n",
                            "</div>"
                        ],
                        "text/plain": [
                            "   age     sex     bmi  children smoker     region      charges\n",
                            "0   19  female  27.900         0    yes  southwest  16884.92400\n",
                            "1   18    male  33.770         1     no  southeast   1725.55230\n",
                            "2   28    male  33.000         3     no  southeast   4449.46200\n",
                            "3   33    male  22.705         0     no  northwest  21984.47061\n",
                            "4   32    male  28.880         0     no  northwest   3866.85520"
                        ]
                    },
                    "execution_count": 6,
                    "metadata": {},
                    "output_type": "execute_result"
                }
            ],
            "source": [
                "df.head()"
            ]
        },
        {
            "cell_type": "code",
            "execution_count": 10,
            "metadata": {},
            "outputs": [
                {
                    "data": {
                        "text/plain": [
                            "age         0\n",
                            "sex         0\n",
                            "bmi         0\n",
                            "children    0\n",
                            "smoker      0\n",
                            "region      0\n",
                            "charges     0\n",
                            "dtype: int64"
                        ]
                    },
                    "execution_count": 10,
                    "metadata": {},
                    "output_type": "execute_result"
                }
            ],
            "source": [
                "df.isna().sum()"
            ]
        },
        {
            "cell_type": "code",
            "execution_count": 12,
            "metadata": {},
            "outputs": [
                {
                    "data": {
                        "text/plain": [
                            "<AxesSubplot:>"
                        ]
                    },
                    "execution_count": 12,
                    "metadata": {},
                    "output_type": "execute_result"
                },
                {
                    "data": {
                        "image/png": "[encoded data removed]",
                        "text/plain": [
                            "<Figure size 432x288 with 2 Axes>"
                        ]
                    },
                    "metadata": {
                        "needs_background": "light"
                    },
                    "output_type": "display_data"
                }
            ],
            "source": [
                "sns.heatmap(df.corr(), annot=True)\n",
                "\n",
                "# para detectar posibles importantes regresores, correlación importante con nuestra variable de interés\n",
                "# para detecatar tmb colinealidad entre regresores"
            ]
        },
        {
            "cell_type": "code",
            "execution_count": 13,
            "metadata": {},
            "outputs": [
                {
                    "data": {
                        "text/html": [
                            "<div>\n",
                            "<style scoped>\n",
                            "    .dataframe tbody tr th:only-of-type {\n",
                            "        vertical-align: middle;\n",
                            "    }\n",
                            "\n",
                            "    .dataframe tbody tr th {\n",
                            "        vertical-align: top;\n",
                            "    }\n",
                            "\n",
                            "    .dataframe thead th {\n",
                            "        text-align: right;\n",
                            "    }\n",
                            "</style>\n",
                            "<table border=\"1\" class=\"dataframe\">\n",
                            "  <thead>\n",
                            "    <tr style=\"text-align: right;\">\n",
                            "      <th></th>\n",
                            "      <th>sex</th>\n",
                            "      <th>smoker</th>\n",
                            "      <th>region</th>\n",
                            "    </tr>\n",
                            "  </thead>\n",
                            "  <tbody>\n",
                            "    <tr>\n",
                            "      <th>count</th>\n",
                            "      <td>1338</td>\n",
                            "      <td>1338</td>\n",
                            "      <td>1338</td>\n",
                            "    </tr>\n",
                            "    <tr>\n",
                            "      <th>unique</th>\n",
                            "      <td>2</td>\n",
                            "      <td>2</td>\n",
                            "      <td>4</td>\n",
                            "    </tr>\n",
                            "    <tr>\n",
                            "      <th>top</th>\n",
                            "      <td>male</td>\n",
                            "      <td>no</td>\n",
                            "      <td>southeast</td>\n",
                            "    </tr>\n",
                            "    <tr>\n",
                            "      <th>freq</th>\n",
                            "      <td>676</td>\n",
                            "      <td>1064</td>\n",
                            "      <td>364</td>\n",
                            "    </tr>\n",
                            "  </tbody>\n",
                            "</table>\n",
                            "</div>"
                        ],
                        "text/plain": [
                            "         sex smoker     region\n",
                            "count   1338   1338       1338\n",
                            "unique     2      2          4\n",
                            "top     male     no  southeast\n",
                            "freq     676   1064        364"
                        ]
                    },
                    "execution_count": 13,
                    "metadata": {},
                    "output_type": "execute_result"
                }
            ],
            "source": [
                "df.describe(include='object')"
            ]
        },
        {
            "cell_type": "code",
            "execution_count": 18,
            "metadata": {},
            "outputs": [
                {
                    "name": "stdout",
                    "output_type": "stream",
                    "text": [
                        "It seems that there are 1 duplicated rows in the dataset.\n"
                    ]
                }
            ],
            "source": [
                "# To see if there are duplicates we will check the id column\n",
                "\n",
                "duplicates = df.duplicated().sum()\n",
                "\n",
                "print(f'It seems that there are {duplicates} duplicated rows in the dataset.')"
            ]
        },
        {
            "cell_type": "markdown",
            "metadata": {},
            "source": [
                "Vemos que hay una fila duplicada, pero no tenemos certeza de que corresponda a la misma persona, entonces no es tan seguro que haya que borrarla. Como es solo una la dejamos."
            ]
        },
        {
            "cell_type": "code",
            "execution_count": 29,
            "metadata": {},
            "outputs": [
                {
                    "data": {
                        "text/html": [
                            "<div>\n",
                            "<style scoped>\n",
                            "    .dataframe tbody tr th:only-of-type {\n",
                            "        vertical-align: middle;\n",
                            "    }\n",
                            "\n",
                            "    .dataframe tbody tr th {\n",
                            "        vertical-align: top;\n",
                            "    }\n",
                            "\n",
                            "    .dataframe thead th {\n",
                            "        text-align: right;\n",
                            "    }\n",
                            "</style>\n",
                            "<table border=\"1\" class=\"dataframe\">\n",
                            "  <thead>\n",
                            "    <tr style=\"text-align: right;\">\n",
                            "      <th></th>\n",
                            "      <th>age</th>\n",
                            "      <th>bmi</th>\n",
                            "      <th>children</th>\n",
                            "      <th>charges</th>\n",
                            "      <th>sex_male</th>\n",
                            "      <th>smoker_yes</th>\n",
                            "      <th>region_northwest</th>\n",
                            "      <th>region_southeast</th>\n",
                            "      <th>region_southwest</th>\n",
                            "    </tr>\n",
                            "  </thead>\n",
                            "  <tbody>\n",
                            "    <tr>\n",
                            "      <th>0</th>\n",
                            "      <td>19</td>\n",
                            "      <td>27.900</td>\n",
                            "      <td>0</td>\n",
                            "      <td>16884.92400</td>\n",
                            "      <td>0</td>\n",
                            "      <td>1</td>\n",
                            "      <td>0</td>\n",
                            "      <td>0</td>\n",
                            "      <td>1</td>\n",
                            "    </tr>\n",
                            "    <tr>\n",
                            "      <th>1</th>\n",
                            "      <td>18</td>\n",
                            "      <td>33.770</td>\n",
                            "      <td>1</td>\n",
                            "      <td>1725.55230</td>\n",
                            "      <td>1</td>\n",
                            "      <td>0</td>\n",
                            "      <td>0</td>\n",
                            "      <td>1</td>\n",
                            "      <td>0</td>\n",
                            "    </tr>\n",
                            "    <tr>\n",
                            "      <th>2</th>\n",
                            "      <td>28</td>\n",
                            "      <td>33.000</td>\n",
                            "      <td>3</td>\n",
                            "      <td>4449.46200</td>\n",
                            "      <td>1</td>\n",
                            "      <td>0</td>\n",
                            "      <td>0</td>\n",
                            "      <td>1</td>\n",
                            "      <td>0</td>\n",
                            "    </tr>\n",
                            "    <tr>\n",
                            "      <th>3</th>\n",
                            "      <td>33</td>\n",
                            "      <td>22.705</td>\n",
                            "      <td>0</td>\n",
                            "      <td>21984.47061</td>\n",
                            "      <td>1</td>\n",
                            "      <td>0</td>\n",
                            "      <td>1</td>\n",
                            "      <td>0</td>\n",
                            "      <td>0</td>\n",
                            "    </tr>\n",
                            "    <tr>\n",
                            "      <th>4</th>\n",
                            "      <td>32</td>\n",
                            "      <td>28.880</td>\n",
                            "      <td>0</td>\n",
                            "      <td>3866.85520</td>\n",
                            "      <td>1</td>\n",
                            "      <td>0</td>\n",
                            "      <td>1</td>\n",
                            "      <td>0</td>\n",
                            "      <td>0</td>\n",
                            "    </tr>\n",
                            "  </tbody>\n",
                            "</table>\n",
                            "</div>"
                        ],
                        "text/plain": [
                            "   age     bmi  children      charges  sex_male  smoker_yes  region_northwest  \\\n",
                            "0   19  27.900         0  16884.92400         0           1                 0   \n",
                            "1   18  33.770         1   1725.55230         1           0                 0   \n",
                            "2   28  33.000         3   4449.46200         1           0                 0   \n",
                            "3   33  22.705         0  21984.47061         1           0                 1   \n",
                            "4   32  28.880         0   3866.85520         1           0                 1   \n",
                            "\n",
                            "   region_southeast  region_southwest  \n",
                            "0                 0                 1  \n",
                            "1                 1                 0  \n",
                            "2                 1                 0  \n",
                            "3                 0                 0  \n",
                            "4                 0                 0  "
                        ]
                    },
                    "execution_count": 29,
                    "metadata": {},
                    "output_type": "execute_result"
                }
            ],
            "source": [
                "df = pd.get_dummies(df, drop_first=True)\n",
                "\n",
                "df.head()\n",
                "\n",
                "# sexo femenino, no fumador y region noreste son nuestra referencia que son las categorías que no estamos incluyendo"
            ]
        },
        {
            "cell_type": "code",
            "execution_count": 30,
            "metadata": {},
            "outputs": [],
            "source": [
                "X = df.drop('charges', axis=1)\n",
                "y = df['charges']"
            ]
        },
        {
            "cell_type": "code",
            "execution_count": 31,
            "metadata": {},
            "outputs": [],
            "source": [
                "X_train, X_test, y_train, y_test = train_test_split(X, y, test_size=0.25, random_state=15)"
            ]
        },
        {
            "cell_type": "code",
            "execution_count": 44,
            "metadata": {},
            "outputs": [
                {
                    "name": "stdout",
                    "output_type": "stream",
                    "text": [
                        "Intercept: -11812.952212787559\n",
                        "Variables: Index(['age', 'bmi', 'children', 'sex_male', 'smoker_yes', 'region_northwest',\n",
                        "       'region_southeast', 'region_southwest'],\n",
                        "      dtype='object')\n",
                        "Slope: [  259.28377294   334.33013348   560.38480047  -216.92164981\n",
                        " 24043.57115706  -210.36710762 -1159.01410243  -989.16702841]\n"
                    ]
                }
            ],
            "source": [
                "# Entrenamos el modelo\n",
                "model = LinearRegression()\n",
                "\n",
                "# fit linear regression\n",
                "model.fit(X_train, y_train)\n",
                "\n",
                "print('Intercept:',model.intercept_)\n",
                "print('Variables:', X_train.columns)\n",
                "print('Slope:', model.coef_)"
            ]
        },
        {
            "cell_type": "code",
            "execution_count": 46,
            "metadata": {},
            "outputs": [
                {
                    "data": {
                        "text/html": [
                            "<table class=\"simpletable\">\n",
                            "<caption>OLS Regression Results</caption>\n",
                            "<tr>\n",
                            "  <th>Dep. Variable:</th>         <td>charges</td>     <th>  R-squared:         </th> <td>   0.739</td> \n",
                            "</tr>\n",
                            "<tr>\n",
                            "  <th>Model:</th>                   <td>OLS</td>       <th>  Adj. R-squared:    </th> <td>   0.737</td> \n",
                            "</tr>\n",
                            "<tr>\n",
                            "  <th>Method:</th>             <td>Least Squares</td>  <th>  F-statistic:       </th> <td>   351.2</td> \n",
                            "</tr>\n",
                            "<tr>\n",
                            "  <th>Date:</th>             <td>Mon, 04 Jul 2022</td> <th>  Prob (F-statistic):</th> <td>1.85e-283</td>\n",
                            "</tr>\n",
                            "<tr>\n",
                            "  <th>Time:</th>                 <td>23:27:33</td>     <th>  Log-Likelihood:    </th> <td> -10183.</td> \n",
                            "</tr>\n",
                            "<tr>\n",
                            "  <th>No. Observations:</th>      <td>  1003</td>      <th>  AIC:               </th> <td>2.038e+04</td>\n",
                            "</tr>\n",
                            "<tr>\n",
                            "  <th>Df Residuals:</th>          <td>   994</td>      <th>  BIC:               </th> <td>2.043e+04</td>\n",
                            "</tr>\n",
                            "<tr>\n",
                            "  <th>Df Model:</th>              <td>     8</td>      <th>                     </th>     <td> </td>    \n",
                            "</tr>\n",
                            "<tr>\n",
                            "  <th>Covariance Type:</th>      <td>nonrobust</td>    <th>                     </th>     <td> </td>    \n",
                            "</tr>\n",
                            "</table>\n",
                            "<table class=\"simpletable\">\n",
                            "<tr>\n",
                            "          <td></td>            <th>coef</th>     <th>std err</th>      <th>t</th>      <th>P>|t|</th>  <th>[0.025</th>    <th>0.975]</th>  \n",
                            "</tr>\n",
                            "<tr>\n",
                            "  <th>const</th>            <td>-1.181e+04</td> <td> 1164.810</td> <td>  -10.142</td> <td> 0.000</td> <td>-1.41e+04</td> <td>-9527.184</td>\n",
                            "</tr>\n",
                            "<tr>\n",
                            "  <th>age</th>              <td>  259.2838</td> <td>   14.094</td> <td>   18.396</td> <td> 0.000</td> <td>  231.626</td> <td>  286.942</td>\n",
                            "</tr>\n",
                            "<tr>\n",
                            "  <th>bmi</th>              <td>  334.3301</td> <td>   33.696</td> <td>    9.922</td> <td> 0.000</td> <td>  268.206</td> <td>  400.454</td>\n",
                            "</tr>\n",
                            "<tr>\n",
                            "  <th>children</th>         <td>  560.3848</td> <td>  161.831</td> <td>    3.463</td> <td> 0.001</td> <td>  242.816</td> <td>  877.954</td>\n",
                            "</tr>\n",
                            "<tr>\n",
                            "  <th>sex_male</th>         <td> -216.9216</td> <td>  397.204</td> <td>   -0.546</td> <td> 0.585</td> <td> -996.376</td> <td>  562.532</td>\n",
                            "</tr>\n",
                            "<tr>\n",
                            "  <th>smoker_yes</th>       <td> 2.404e+04</td> <td>  499.031</td> <td>   48.181</td> <td> 0.000</td> <td> 2.31e+04</td> <td>  2.5e+04</td>\n",
                            "</tr>\n",
                            "<tr>\n",
                            "  <th>region_northwest</th> <td> -210.3671</td> <td>  567.856</td> <td>   -0.370</td> <td> 0.711</td> <td>-1324.700</td> <td>  903.966</td>\n",
                            "</tr>\n",
                            "<tr>\n",
                            "  <th>region_southeast</th> <td>-1159.0141</td> <td>  572.395</td> <td>   -2.025</td> <td> 0.043</td> <td>-2282.255</td> <td>  -35.773</td>\n",
                            "</tr>\n",
                            "<tr>\n",
                            "  <th>region_southwest</th> <td> -989.1670</td> <td>  558.264</td> <td>   -1.772</td> <td> 0.077</td> <td>-2084.678</td> <td>  106.343</td>\n",
                            "</tr>\n",
                            "</table>\n",
                            "<table class=\"simpletable\">\n",
                            "<tr>\n",
                            "  <th>Omnibus:</th>       <td>231.741</td> <th>  Durbin-Watson:     </th> <td>   2.155</td> \n",
                            "</tr>\n",
                            "<tr>\n",
                            "  <th>Prob(Omnibus):</th> <td> 0.000</td>  <th>  Jarque-Bera (JB):  </th> <td> 545.491</td> \n",
                            "</tr>\n",
                            "<tr>\n",
                            "  <th>Skew:</th>          <td> 1.239</td>  <th>  Prob(JB):          </th> <td>3.53e-119</td>\n",
                            "</tr>\n",
                            "<tr>\n",
                            "  <th>Kurtosis:</th>      <td> 5.629</td>  <th>  Cond. No.          </th> <td>    310.</td> \n",
                            "</tr>\n",
                            "</table><br/><br/>Notes:<br/>[1] Standard Errors assume that the covariance matrix of the errors is correctly specified."
                        ],
                        "text/plain": [
                            "<class 'statsmodels.iolib.summary.Summary'>\n",
                            "\"\"\"\n",
                            "                            OLS Regression Results                            \n",
                            "==============================================================================\n",
                            "Dep. Variable:                charges   R-squared:                       0.739\n",
                            "Model:                            OLS   Adj. R-squared:                  0.737\n",
                            "Method:                 Least Squares   F-statistic:                     351.2\n",
                            "Date:                Mon, 04 Jul 2022   Prob (F-statistic):          1.85e-283\n",
                            "Time:                        23:27:33   Log-Likelihood:                -10183.\n",
                            "No. Observations:                1003   AIC:                         2.038e+04\n",
                            "Df Residuals:                     994   BIC:                         2.043e+04\n",
                            "Df Model:                           8                                         \n",
                            "Covariance Type:            nonrobust                                         \n",
                            "====================================================================================\n",
                            "                       coef    std err          t      P>|t|      [0.025      0.975]\n",
                            "------------------------------------------------------------------------------------\n",
                            "const            -1.181e+04   1164.810    -10.142      0.000   -1.41e+04   -9527.184\n",
                            "age                259.2838     14.094     18.396      0.000     231.626     286.942\n",
                            "bmi                334.3301     33.696      9.922      0.000     268.206     400.454\n",
                            "children           560.3848    161.831      3.463      0.001     242.816     877.954\n",
                            "sex_male          -216.9216    397.204     -0.546      0.585    -996.376     562.532\n",
                            "smoker_yes        2.404e+04    499.031     48.181      0.000    2.31e+04     2.5e+04\n",
                            "region_northwest  -210.3671    567.856     -0.370      0.711   -1324.700     903.966\n",
                            "region_southeast -1159.0141    572.395     -2.025      0.043   -2282.255     -35.773\n",
                            "region_southwest  -989.1670    558.264     -1.772      0.077   -2084.678     106.343\n",
                            "==============================================================================\n",
                            "Omnibus:                      231.741   Durbin-Watson:                   2.155\n",
                            "Prob(Omnibus):                  0.000   Jarque-Bera (JB):              545.491\n",
                            "Skew:                           1.239   Prob(JB):                    3.53e-119\n",
                            "Kurtosis:                       5.629   Cond. No.                         310.\n",
                            "==============================================================================\n",
                            "\n",
                            "Notes:\n",
                            "[1] Standard Errors assume that the covariance matrix of the errors is correctly specified.\n",
                            "\"\"\""
                        ]
                    },
                    "execution_count": 46,
                    "metadata": {},
                    "output_type": "execute_result"
                }
            ],
            "source": [
                "# otra implementación de la regresión lineal\n",
                "# con statsmodels\n",
                "X_int = sm.add_constant(X_train) \n",
                "\n",
                "modelo2 = sm.OLS(y_train, X_int)\n",
                "\n",
                "results = modelo2.fit()\n",
                "\n",
                "results.summary()\n"
            ]
        },
        {
            "cell_type": "code",
            "execution_count": 48,
            "metadata": {},
            "outputs": [
                {
                    "data": {
                        "text/plain": [
                            "array([ 3.39089001e+04,  2.56293864e+04,  3.66042796e+03,  3.21835656e+03,\n",
                            "        2.91330950e+03,  8.03967100e+03,  1.19442666e+03,  3.52046957e+04,\n",
                            "        8.50575582e+03,  8.65746322e+03,  4.01520702e+03,  6.00104516e+03,\n",
                            "        3.64508965e+04,  3.30471437e+04,  5.59629587e+03,  3.75667439e+04,\n",
                            "        2.73298852e+04,  9.61073179e+03,  3.00733138e+04,  8.39334767e+03,\n",
                            "        5.62445286e+03,  9.52396196e+03,  3.49965866e+03,  1.82518072e+04,\n",
                            "        1.19922469e+04,  8.50401916e+03,  7.76180319e+03,  3.89656622e+04,\n",
                            "        3.65169591e+03, -1.64816539e+02,  6.65145599e+03,  9.21045658e+03,\n",
                            "        5.58431458e+03,  4.09264560e+04,  7.34748711e+03,  5.67568989e+03,\n",
                            "        5.81222611e+03,  4.05492685e+03,  6.42601274e+03,  1.15835525e+04,\n",
                            "        7.23109984e+03,  1.06950920e+04,  1.55605000e+04,  2.88674101e+03,\n",
                            "        1.10881133e+04,  1.10344017e+04,  1.18853518e+04,  6.51015502e+03,\n",
                            "        9.43956539e+03,  2.86418531e+04,  1.68965010e+03,  2.47662333e+03,\n",
                            "        9.09916582e+03,  1.02816844e+04,  1.26203164e+04,  2.70676672e+04,\n",
                            "        1.02709478e+03,  1.26965581e+04,  5.36391228e+03,  1.56221641e+04,\n",
                            "        6.36357464e+03,  3.08549293e+04,  2.52118666e+04,  5.37106838e+03,\n",
                            "        3.45887803e+04,  3.71006331e+04,  5.11131327e+03,  1.09925939e+04,\n",
                            "        1.16317280e+04,  3.41307790e+04,  1.05265445e+04,  5.46831827e+03,\n",
                            "        1.09789206e+04,  1.22548735e+04,  9.59999786e+01,  7.54799635e+03,\n",
                            "        3.75555390e+04,  1.33939464e+04,  1.89426476e+04,  9.95460105e+03,\n",
                            "        1.25746465e+04,  1.17166655e+04,  3.94209162e+04,  2.60489404e+03,\n",
                            "        7.75836142e+03,  2.98547206e+04,  1.60782684e+04,  5.30340160e+03,\n",
                            "        1.16375642e+04,  3.75991377e+03,  5.40610223e+03,  6.82558194e+03,\n",
                            "        3.85859832e+03,  1.05056282e+04,  9.60095944e+03,  7.86467599e+03,\n",
                            "        9.87401716e+03,  1.68151736e+04,  1.31609606e+04,  1.23992920e+04,\n",
                            "        1.19497699e+04,  3.51674966e+03,  1.06737334e+04,  7.21491191e+03,\n",
                            "        1.45698188e+04,  1.16950156e+04,  1.54990952e+04,  3.23453175e+04,\n",
                            "        1.08476550e+04,  3.12373384e+03,  2.73774770e+04,  2.78203163e+04,\n",
                            "        4.10623443e+03,  1.20233871e+04,  6.50424510e+03,  5.40833547e+03,\n",
                            "        4.27184077e+03,  3.48927291e+03,  4.13482091e+03,  3.53925286e+04,\n",
                            "        1.08353181e+04,  1.26811945e+04,  3.93887128e+03,  8.44054842e+03,\n",
                            "        1.04481437e+04,  2.94914200e+04,  4.55211878e+03,  1.07220666e+04,\n",
                            "        3.51404281e+04,  1.06997549e+04,  1.20988892e+04,  5.72291547e+03,\n",
                            "        1.27593063e+04,  1.32745620e+04,  1.48709368e+04,  1.01134334e+04,\n",
                            "       -1.97257444e+01,  1.49981973e+04,  6.60281552e+03,  7.80068644e+03,\n",
                            "        3.42680953e+04,  1.08440133e+04,  5.46131300e+03,  2.11769874e+03,\n",
                            "        1.16184842e+04,  8.80461242e+03,  7.92615068e+03,  1.00507429e+04,\n",
                            "        1.70267042e+04,  6.81334503e+03,  9.45780891e+03,  5.16705100e+03,\n",
                            "        3.94332086e+04,  9.23073741e+03,  1.31775098e+04,  1.14918558e+04,\n",
                            "        8.36083024e+03,  1.05688211e+04,  1.25528467e+04,  6.99136018e+02,\n",
                            "        1.26208242e+04,  1.06349032e+04,  4.48202451e+03,  6.96590608e+03,\n",
                            "        3.21146852e+04,  1.15280631e+04,  4.24663847e+03,  5.98814966e+03,\n",
                            "        3.35868641e+04,  2.76190436e+04,  9.36477332e+03,  1.47930823e+04,\n",
                            "        3.09978759e+04,  2.77029449e+04, -1.35413493e+03,  9.35685590e+03,\n",
                            "        2.90848920e+04,  1.06584676e+04,  3.40602363e+04,  1.12084837e+04,\n",
                            "        3.53085167e+04,  1.31592292e+04,  7.54608981e+03,  1.44896281e+04,\n",
                            "        3.55245182e+02,  5.16518273e+03,  7.00805318e+03,  3.24380383e+04,\n",
                            "        8.71518894e+03,  4.61472547e+03,  1.59965695e+04,  1.01091929e+04,\n",
                            "        1.01500933e+04,  3.67340138e+03,  1.02112179e+04,  3.47877506e+04,\n",
                            "        4.33295418e+03,  2.54956543e+04,  9.55360650e+03,  7.05321234e+03,\n",
                            "        6.21506793e+03,  2.98920644e+03,  1.40799789e+04,  3.73753565e+04,\n",
                            "        1.06168781e+04,  6.79566256e+03,  9.60664379e+03,  3.15332490e+04,\n",
                            "        1.19138627e+04,  5.97525324e+03,  8.83832931e+03,  3.81017813e+03,\n",
                            "        8.48533488e+03,  3.44438038e+04,  7.26280379e+03,  1.09018779e+04,\n",
                            "        7.58440228e+03,  3.09539314e+02,  1.09351702e+04,  2.34888275e+03,\n",
                            "        9.32415841e+03,  1.34535438e+04,  8.36487996e+03,  4.18043418e+03,\n",
                            "        1.15291940e+04,  1.79034208e+03,  6.79558152e+03,  3.58085492e+04,\n",
                            "        3.09554233e+04,  2.80587782e+04,  8.64095062e+03,  7.70179365e+03,\n",
                            "        7.77488890e+03,  1.55493017e+03,  9.76552326e+02,  1.65788874e+03,\n",
                            "        4.13108467e+03,  3.25481780e+04,  2.38906345e+04, -1.65718707e+03,\n",
                            "        2.72891003e+04,  2.47016089e+04,  5.91811096e+03,  5.40871515e+03,\n",
                            "        1.30837065e+04,  2.12808449e+03,  3.23483819e+02,  4.73433937e+03,\n",
                            "        1.52094179e+04,  8.99004929e+03,  9.63270784e+03,  1.73063483e+04,\n",
                            "        1.85788077e+03,  1.13874409e+04,  2.65403932e+04,  6.45354121e+03,\n",
                            "        3.09338326e+04,  1.19519507e+04,  4.21066261e+03,  2.51419869e+03,\n",
                            "        5.55823565e+03,  3.87759496e+04,  1.39550037e+04,  7.92426968e+03,\n",
                            "        6.44164333e+03,  1.51095102e+04,  1.64106329e+03,  1.29346000e+04,\n",
                            "        1.50459094e+04,  1.34261668e+04,  2.74582929e+04,  1.43428413e+04,\n",
                            "        1.51229183e+04,  4.03803937e+04,  2.27726309e+03,  2.62699201e+03,\n",
                            "        3.52265737e+04,  6.92256879e+02,  3.30235031e+04,  1.23430451e+04,\n",
                            "        7.11337262e+03,  1.39122021e+04,  1.09777843e+04,  7.82194175e+03,\n",
                            "        2.41393175e+04,  3.70358285e+04,  1.22671092e+04,  1.48180149e+04,\n",
                            "        1.24158285e+04,  3.45264853e+03,  6.01247762e+03,  3.39935370e+04,\n",
                            "        9.53289428e+03,  1.45808087e+04,  1.01235188e+04,  1.09737960e+04,\n",
                            "        9.49879213e+03,  1.06531467e+04,  5.73732439e+03,  1.29645954e+04,\n",
                            "        4.02795716e+04,  4.88710272e+03,  5.78593190e+03,  7.13264353e+03,\n",
                            "        4.01805756e+04,  1.03436318e+04,  1.14738308e+04,  2.66020978e+04,\n",
                            "        1.31404597e+04,  2.88987920e+04,  3.30198948e+04,  5.98075896e+03,\n",
                            "        2.63549480e+04,  6.36982385e+03,  3.74142104e+04,  1.13051075e+04,\n",
                            "        3.36016723e+04, -4.04972304e+01,  1.15045877e+04,  5.35765005e+03,\n",
                            "        2.64486989e+04,  3.30303989e+03,  5.88662044e+03,  3.54114658e+04,\n",
                            "        1.11938030e+03,  3.14837169e+04,  4.30515321e+02,  1.08013382e+04,\n",
                            "        5.55677354e+03,  3.04647859e+04,  3.56640365e+04,  1.19501383e+04,\n",
                            "        7.48939221e+03,  3.76028789e+04,  3.74776440e+04])"
                        ]
                    },
                    "execution_count": 48,
                    "metadata": {},
                    "output_type": "execute_result"
                }
            ],
            "source": [
                "# hacemos las predicciones para la base de prueba\n",
                "\n",
                "y_pred = model.predict(X_test)"
            ]
        },
        {
            "cell_type": "code",
            "execution_count": 55,
            "metadata": {},
            "outputs": [
                {
                    "name": "stdout",
                    "output_type": "stream",
                    "text": [
                        "MAE 4023.6471495940405\n",
                        "MSE 30723136.826880053\n",
                        "RMSE 5542.845553222645\n"
                    ]
                }
            ],
            "source": [
                "# Metricas de evaluacion\n",
                "\n",
                "print('MAE', metrics.mean_absolute_error(y_test, y_pred))\n",
                "print('MSE', metrics.mean_squared_error(y_test, y_pred))\n",
                "print('RMSE', metrics.mean_squared_error(y_test, y_pred,squared=False))"
            ]
        },
        {
            "cell_type": "markdown",
            "metadata": {},
            "source": [
                "### hipertuning\n",
                "\n",
                "Modelo sin constante"
            ]
        },
        {
            "cell_type": "code",
            "execution_count": 63,
            "metadata": {},
            "outputs": [
                {
                    "data": {
                        "text/html": [
                            "<style>#sk-container-id-1 {color: black;background-color: white;}#sk-container-id-1 pre{padding: 0;}#sk-container-id-1 div.sk-toggleable {background-color: white;}#sk-container-id-1 label.sk-toggleable__label {cursor: pointer;display: block;width: 100%;margin-bottom: 0;padding: 0.3em;box-sizing: border-box;text-align: center;}#sk-container-id-1 label.sk-toggleable__label-arrow:before {content: \"▸\";float: left;margin-right: 0.25em;color: #696969;}#sk-container-id-1 label.sk-toggleable__label-arrow:hover:before {color: black;}#sk-container-id-1 div.sk-estimator:hover label.sk-toggleable__label-arrow:before {color: black;}#sk-container-id-1 div.sk-toggleable__content {max-height: 0;max-width: 0;overflow: hidden;text-align: left;background-color: #f0f8ff;}#sk-container-id-1 div.sk-toggleable__content pre {margin: 0.2em;color: black;border-radius: 0.25em;background-color: #f0f8ff;}#sk-container-id-1 input.sk-toggleable__control:checked~div.sk-toggleable__content {max-height: 200px;max-width: 100%;overflow: auto;}#sk-container-id-1 input.sk-toggleable__control:checked~label.sk-toggleable__label-arrow:before {content: \"▾\";}#sk-container-id-1 div.sk-estimator input.sk-toggleable__control:checked~label.sk-toggleable__label {background-color: #d4ebff;}#sk-container-id-1 div.sk-label input.sk-toggleable__control:checked~label.sk-toggleable__label {background-color: #d4ebff;}#sk-container-id-1 input.sk-hidden--visually {border: 0;clip: rect(1px 1px 1px 1px);clip: rect(1px, 1px, 1px, 1px);height: 1px;margin: -1px;overflow: hidden;padding: 0;position: absolute;width: 1px;}#sk-container-id-1 div.sk-estimator {font-family: monospace;background-color: #f0f8ff;border: 1px dotted black;border-radius: 0.25em;box-sizing: border-box;margin-bottom: 0.5em;}#sk-container-id-1 div.sk-estimator:hover {background-color: #d4ebff;}#sk-container-id-1 div.sk-parallel-item::after {content: \"\";width: 100%;border-bottom: 1px solid gray;flex-grow: 1;}#sk-container-id-1 div.sk-label:hover label.sk-toggleable__label {background-color: #d4ebff;}#sk-container-id-1 div.sk-serial::before {content: \"\";position: absolute;border-left: 1px solid gray;box-sizing: border-box;top: 0;bottom: 0;left: 50%;z-index: 0;}#sk-container-id-1 div.sk-serial {display: flex;flex-direction: column;align-items: center;background-color: white;padding-right: 0.2em;padding-left: 0.2em;position: relative;}#sk-container-id-1 div.sk-item {position: relative;z-index: 1;}#sk-container-id-1 div.sk-parallel {display: flex;align-items: stretch;justify-content: center;background-color: white;position: relative;}#sk-container-id-1 div.sk-item::before, #sk-container-id-1 div.sk-parallel-item::before {content: \"\";position: absolute;border-left: 1px solid gray;box-sizing: border-box;top: 0;bottom: 0;left: 50%;z-index: -1;}#sk-container-id-1 div.sk-parallel-item {display: flex;flex-direction: column;z-index: 1;position: relative;background-color: white;}#sk-container-id-1 div.sk-parallel-item:first-child::after {align-self: flex-end;width: 50%;}#sk-container-id-1 div.sk-parallel-item:last-child::after {align-self: flex-start;width: 50%;}#sk-container-id-1 div.sk-parallel-item:only-child::after {width: 0;}#sk-container-id-1 div.sk-dashed-wrapped {border: 1px dashed gray;margin: 0 0.4em 0.5em 0.4em;box-sizing: border-box;padding-bottom: 0.4em;background-color: white;}#sk-container-id-1 div.sk-label label {font-family: monospace;font-weight: bold;display: inline-block;line-height: 1.2em;}#sk-container-id-1 div.sk-label-container {text-align: center;}#sk-container-id-1 div.sk-container {/* jupyter's `normalize.less` sets `[hidden] { display: none; }` but bootstrap.min.css set `[hidden] { display: none !important; }` so we also need the `!important` here to be able to override the default hidden behavior on the sphinx rendered scikit-learn.org. See: https://github.com/scikit-learn/scikit-learn/issues/21755 */display: inline-block !important;position: relative;}#sk-container-id-1 div.sk-text-repr-fallback {display: none;}</style><div id=\"sk-container-id-1\" class=\"sk-top-container\"><div class=\"sk-text-repr-fallback\"><pre>LinearRegression(fit_intercept=False)</pre><b>In a Jupyter environment, please rerun this cell to show the HTML representation or trust the notebook. <br />On GitHub, the HTML representation is unable to render, please try loading this page with nbviewer.org.</b></div><div class=\"sk-container\" hidden><div class=\"sk-item\"><div class=\"sk-estimator sk-toggleable\"><input class=\"sk-toggleable__control sk-hidden--visually\" id=\"sk-estimator-id-1\" type=\"checkbox\" checked><label for=\"sk-estimator-id-1\" class=\"sk-toggleable__label sk-toggleable__label-arrow\">LinearRegression</label><div class=\"sk-toggleable__content\"><pre>LinearRegression(fit_intercept=False)</pre></div></div></div></div></div>"
                        ],
                        "text/plain": [
                            "LinearRegression(fit_intercept=False)"
                        ]
                    },
                    "execution_count": 63,
                    "metadata": {},
                    "output_type": "execute_result"
                }
            ],
            "source": [
                "# Entrenamos el modelo\n",
                "model3 = LinearRegression(fit_intercept=False)\n",
                "\n",
                "# fit linear regression\n",
                "model3.fit(X_train, y_train)\n",
                "\n"
            ]
        },
        {
            "cell_type": "code",
            "execution_count": 66,
            "metadata": {},
            "outputs": [],
            "source": [
                "# hacemos las predicciones para la base de prueba\n",
                "\n",
                "y_pred3 = model3.predict(X_test)"
            ]
        },
        {
            "cell_type": "code",
            "execution_count": 67,
            "metadata": {},
            "outputs": [
                {
                    "name": "stdout",
                    "output_type": "stream",
                    "text": [
                        "MAE 4278.042622074816\n",
                        "MSE 34870064.92980866\n",
                        "RMSE 5905.088054365376\n"
                    ]
                }
            ],
            "source": [
                "# Metricas de evaluacion\n",
                "\n",
                "print('MAE', metrics.mean_absolute_error(y_test, y_pred3))\n",
                "print('MSE', metrics.mean_squared_error(y_test, y_pred3))\n",
                "print('RMSE', metrics.mean_squared_error(y_test, y_pred3,squared=False))"
            ]
        },
        {
            "cell_type": "markdown",
            "metadata": {},
            "source": [
                "Las metricas son peores que en el caso del modelo con constante."
            ]
        },
        {
            "cell_type": "markdown",
            "metadata": {},
            "source": [
                "### Modelo con polinomio de segundo grado e interacciones"
            ]
        },
        {
            "cell_type": "code",
            "execution_count": 69,
            "metadata": {},
            "outputs": [],
            "source": [
                "\n",
                "\n",
                "# Probamos con polinomio\n",
                "\n",
                "poly_features = PolynomialFeatures(degree=2) # la vamos a usar para generar todos los x al cuadrado y las de interaccion\n",
                "# si no queremos las de interacción deberíamos poner \n",
                "\n",
                "X_train_poly = poly_features.fit_transform(X_train)\n",
                "X_test_poly = poly_features.fit_transform(X_test)\n",
                "\n",
                "model4 = model.fit(X_train_poly, y_train) #model era la regresion lineal que ya habiamos hecho"
            ]
        },
        {
            "cell_type": "code",
            "execution_count": 70,
            "metadata": {},
            "outputs": [],
            "source": [
                "y_pred4 = model4.predict(X_test_poly)"
            ]
        },
        {
            "cell_type": "code",
            "execution_count": 71,
            "metadata": {},
            "outputs": [
                {
                    "name": "stdout",
                    "output_type": "stream",
                    "text": [
                        "MAE 3794.6198658238804\n",
                        "MSE 27793221.25291654\n",
                        "RMSE 5271.927660061027\n"
                    ]
                }
            ],
            "source": [
                "# Metricas de evaluacion\n",
                "\n",
                "print('MAE', metrics.mean_absolute_error(y_test, y_pred4))\n",
                "print('MSE', metrics.mean_squared_error(y_test, y_pred4))\n",
                "print('RMSE', metrics.mean_squared_error(y_test, y_pred4,squared=False))"
            ]
        }
    ],
    "metadata": {
        "kernelspec": {
            "display_name": "Python 3.8.13 64-bit ('3.8.13')",
            "language": "python",
            "name": "python3"
        },
        "language_info": {
            "codemirror_mode": {
                "name": "ipython",
                "version": 3
            },
            "file_extension": ".py",
            "mimetype": "text/x-python",
            "name": "python",
            "nbconvert_exporter": "python",
            "pygments_lexer": "ipython3",
            "version": "3.8.13"
        },
        "orig_nbformat": 4,
        "vscode": {
            "interpreter": {
                "hash": "110cc1dee26208153f2972f08a2ad52b6a56238dc66d48e87fb757ef2996db56"
            }
        }
    },
    "nbformat": 4,
    "nbformat_minor": 2
}
